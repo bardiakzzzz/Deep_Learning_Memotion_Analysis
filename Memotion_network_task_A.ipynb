{
  "nbformat": 4,
  "nbformat_minor": 0,
  "metadata": {
    "colab": {
      "name": "Memotion_network_task_A.ipynb",
      "provenance": [],
      "collapsed_sections": []
    },
    "kernelspec": {
      "name": "python3",
      "display_name": "Python 3"
    },
    "accelerator": "GPU"
  },
  "cells": [
    {
      "cell_type": "markdown",
      "metadata": {
        "id": "ZB2HG5cimwDB",
        "colab_type": "text"
      },
      "source": [
        "**Getting Data**\n",
        "\n",
        "In previous notebook we downloaded photos and save them on google drive "
      ]
    },
    {
      "cell_type": "code",
      "metadata": {
        "id": "rViDsspAm2ZL",
        "colab_type": "code",
        "outputId": "c7dc3a6b-343e-4fb1-a726-50aa45fe885c",
        "colab": {
          "base_uri": "https://localhost:8080/",
          "height": 268
        }
      },
      "source": [
        "\"\"\"libraries we use\"\"\"\n",
        "!sudo apt-get install unzip\n",
        "from google.colab import drive\n",
        "from google.colab import files\n",
        "import csv \n",
        "drive.mount('/content/drive')\n",
        "import os.path"
      ],
      "execution_count": 1,
      "outputs": [
        {
          "output_type": "stream",
          "text": [
            "Reading package lists... Done\n",
            "Building dependency tree       \n",
            "Reading state information... Done\n",
            "unzip is already the newest version (6.0-21ubuntu1).\n",
            "The following package was automatically installed and is no longer required:\n",
            "  libnvidia-common-430\n",
            "Use 'sudo apt autoremove' to remove it.\n",
            "0 upgraded, 0 newly installed, 0 to remove and 7 not upgraded.\n",
            "Go to this URL in a browser: https://accounts.google.com/o/oauth2/auth?client_id=947318989803-6bn6qk8qdgf4n4g3pfee6491hc0brc4i.apps.googleusercontent.com&redirect_uri=urn%3aietf%3awg%3aoauth%3a2.0%3aoob&response_type=code&scope=email%20https%3a%2f%2fwww.googleapis.com%2fauth%2fdocs.test%20https%3a%2f%2fwww.googleapis.com%2fauth%2fdrive%20https%3a%2f%2fwww.googleapis.com%2fauth%2fdrive.photos.readonly%20https%3a%2f%2fwww.googleapis.com%2fauth%2fpeopleapi.readonly\n",
            "\n",
            "Enter your authorization code:\n",
            "··········\n",
            "Mounted at /content/drive\n"
          ],
          "name": "stdout"
        }
      ]
    },
    {
      "cell_type": "markdown",
      "metadata": {
        "id": "cvHZwXW_pv9E",
        "colab_type": "text"
      },
      "source": [
        "Upload csv file to read data from it"
      ]
    },
    {
      "cell_type": "code",
      "metadata": {
        "id": "uguFnfLOnAiL",
        "colab_type": "code",
        "outputId": "d6c16e88-a195-45ff-ae0c-ee8cf8f40365",
        "colab": {
          "base_uri": "https://localhost:8080/",
          "height": 90
        }
      },
      "source": [
        "!cp drive/My\\ Drive/Memotion/data_train.csv /content/\n",
        "!cp drive/My\\ Drive/Memotion/data_test.csv /content/\n",
        "\n",
        "\n",
        "train_filename = 'data_train.csv'\n",
        "test_filename = 'data_test.csv'\n",
        "\n",
        "# reading the file into a list\n",
        "train_data = [] \n",
        "test_data = []\n",
        "with open(train_filename, 'r') as csvfile: \n",
        "    csvreader = csv.reader(csvfile)  \n",
        "    for row in csvreader: \n",
        "        train_data.append(row) \n",
        "csvfile.close()\n",
        "\n",
        "with open(test_filename, 'r') as csvfile: \n",
        "    csvreader = csv.reader(csvfile)  \n",
        "    for row in csvreader: \n",
        "        test_data.append(row) \n",
        "csvfile.close()\n",
        "\n",
        "print('Example :')\n",
        "print(train_data[0])\n",
        "print(train_data[1])"
      ],
      "execution_count": 2,
      "outputs": [
        {
          "output_type": "stream",
          "text": [
            "Example :\n",
            "['Image_name', 'Image_URL', 'OCR_extracted_text', 'corrected_text', 'Humour', 'Sarcasm', 'offensive', 'Motivational', 'Overall_Sentiment']\n",
            "['10_year_2r94rv.jpg', 'https://i.imgflip.com/2r94rv.jpg', 'LOOK THERE MY FRIEND LIGHTYEAR NOW ALL SOHALIKUT TREND PLAY THE 10 YEARS CHALLENGE AT FACEBOOK imgflip.com ', 'LOOK THERE MY FRIEND LIGHTYEAR NOW ALL SOHALIKUT TREND PLAY THE 10 YEARS CHALLENGE AT FACEBOOK imgflip.com ', 'hilarious', 'general', 'not_offensive', 'not_motivational', 'very_positive']\n"
          ],
          "name": "stdout"
        }
      ]
    },
    {
      "cell_type": "markdown",
      "metadata": {
        "id": "wKN-CCeoIG2A",
        "colab_type": "text"
      },
      "source": [
        "Some lines has incorrect data e.g. in some lines corrected ocr is empty , in addition in some lines url contains wrong data so we delet lines which does not have 9 columns"
      ]
    },
    {
      "cell_type": "code",
      "metadata": {
        "id": "iRa4gVsSDM3G",
        "colab_type": "code",
        "outputId": "981efd70-1d09-4350-a01a-b7cd8bdd07ad",
        "colab": {
          "base_uri": "https://localhost:8080/",
          "height": 52
        }
      },
      "source": [
        "del train_data[0] # header part\n",
        "counter = 0  \n",
        "for line in train_data[:] :\n",
        "  if(line[-1] == ''):\n",
        "    train_data.remove(line)\n",
        "print('new train data has' ,str(len(train_data)) , 'lines!')\n",
        "\n",
        "del test_data[0] # header part\n",
        "counter = 0  \n",
        "for line in test_data[:] :\n",
        "  if(line[-1] == ''):\n",
        "    test_data.remove(line)\n",
        "print('new test data has' ,str(len(test_data)) , 'lines!')"
      ],
      "execution_count": 3,
      "outputs": [
        {
          "output_type": "stream",
          "text": [
            "new train data has 6521 lines!\n",
            "new test data has 914 lines!\n"
          ],
          "name": "stdout"
        }
      ]
    },
    {
      "cell_type": "markdown",
      "metadata": {
        "id": "I061KaozL1R9",
        "colab_type": "text"
      },
      "source": [
        "Some of corrected OCR still contains websites url or username ,We try to delete most of them"
      ]
    },
    {
      "cell_type": "code",
      "metadata": {
        "id": "DsYujnWPIi_Z",
        "colab_type": "code",
        "colab": {}
      },
      "source": [
        "for line in train_data :\n",
        "  corrected_ocr = ' '.join(item for item in line[3].split() if not (item.startswith('@') or item.endswith('.com') or item.endswith('.net')))\n",
        "  line[3] = corrected_ocr\n",
        "\n",
        "for line in test_data :\n",
        "  corrected_ocr = ' '.join(item for item in line[3].split() if not (item.startswith('@') or item.endswith('.com') or item.endswith('.net')))\n",
        "  line[3] = corrected_ocr"
      ],
      "execution_count": 0,
      "outputs": []
    },
    {
      "cell_type": "markdown",
      "metadata": {
        "id": "B3mWKPAXpYoN",
        "colab_type": "text"
      },
      "source": [
        "get prepared dataset from google drive"
      ]
    },
    {
      "cell_type": "code",
      "metadata": {
        "id": "vpnLRcFzoZub",
        "colab_type": "code",
        "colab": {}
      },
      "source": [
        "!cp drive/My\\ Drive/Memotion/train_dataset.zip /content/\n",
        "!cp drive/My\\ Drive/Memotion/test_dataset.zip /content/\n",
        "\n",
        "!unzip train_dataset.zip\n",
        "!unzip test_dataset.zip"
      ],
      "execution_count": 0,
      "outputs": []
    },
    {
      "cell_type": "markdown",
      "metadata": {
        "id": "8lhcRPTE1rWl",
        "colab_type": "text"
      },
      "source": [
        "some photos can not convert to jpeg so we delete them"
      ]
    },
    {
      "cell_type": "code",
      "metadata": {
        "id": "2Td-FdUA0LgG",
        "colab_type": "code",
        "outputId": "792f27c0-f54b-4cfb-ba69-5fa1e05fb85c",
        "colab": {
          "base_uri": "https://localhost:8080/",
          "height": 70
        }
      },
      "source": [
        "import os\n",
        "try:\n",
        "  # %tensorflow_version only exists in Colab.\n",
        "  %tensorflow_version 2.x\n",
        "except Exception:\n",
        "  pass\n",
        "import tensorflow as tf\n",
        "\n",
        "TRAIN_DATASET = 'train_dataset/'\n",
        "TEST_DATASET = 'test_dataset/'\n",
        "\n",
        "for image in os.listdir(TRAIN_DATASET) :\n",
        "  try :\n",
        "    img = tf.io.read_file(TRAIN_DATASET + image)\n",
        "    img = tf.image.decode_jpeg(img,channels=3)\n",
        "  except:\n",
        "    os.remove(TRAIN_DATASET + image)\n",
        "print(\"number of photos in train : \" , len(os.listdir(TRAIN_DATASET)))\n",
        "\n",
        "for image in os.listdir(TEST_DATASET) :\n",
        "  try :\n",
        "    img = tf.io.read_file(TEST_DATASET + image)\n",
        "    img = tf.image.decode_jpeg(img,channels=3)\n",
        "  except:\n",
        "    os.remove(TEST_DATASET + image)\n",
        "print(\"number of photos in test : \" , len(os.listdir(TEST_DATASET)))"
      ],
      "execution_count": 6,
      "outputs": [
        {
          "output_type": "stream",
          "text": [
            "TensorFlow 2.x selected.\n",
            "number of photos in train :  5847\n",
            "number of photos in test :  831\n"
          ],
          "name": "stdout"
        }
      ]
    },
    {
      "cell_type": "markdown",
      "metadata": {
        "id": "HdNTSuK9p1BQ",
        "colab_type": "text"
      },
      "source": [
        "\n",
        "Now we want to get images and texts with their labels for positive ,negative or neutral"
      ]
    },
    {
      "cell_type": "code",
      "metadata": {
        "id": "EhXGI_vbpW71",
        "colab_type": "code",
        "outputId": "8c85631f-9669-4fa1-a6d2-c781d570a929",
        "colab": {
          "base_uri": "https://localhost:8080/",
          "height": 106
        }
      },
      "source": [
        "train_images = []\n",
        "train_texts = []\n",
        "train_labels = []\n",
        "\n",
        "max_len_text = 0\n",
        "number_of_positive = 0\n",
        "number_of_negative = 0\n",
        "number_of_neutral = 0 \n",
        "for line in train_data : \n",
        "  if os.path.exists(TRAIN_DATASET + line[0]):\n",
        "    if line[-1] == 'positive' or line[-1] == 'very_positive':\n",
        "      train_labels.append(0)\n",
        "      number_of_positive += 1\n",
        "    elif line[-1] == 'negative' or line[-1] == 'very_negative':\n",
        "      train_labels.append(1)\n",
        "      number_of_negative += 1\n",
        "    elif line[-1] == 'neutral':\n",
        "      train_labels.append(2)\n",
        "      number_of_neutral += 1\n",
        "    else :\n",
        "      continue\n",
        "    train_images.append(TRAIN_DATASET + line[0])\n",
        "    train_texts.append(line[3])\n",
        "    if len(line[3].split()) > max_len_text :\n",
        "      max_len_text = len(line[3].split())\n",
        "\n",
        "print('train data :')\n",
        "print('positive : ' + str(number_of_positive) + ' , negative : ' + str(number_of_negative) + ' , neutral : ' + str(number_of_neutral))\n",
        "\n",
        "\n",
        "test_images = []\n",
        "test_texts = []\n",
        "test_labels = []\n",
        "\n",
        "number_of_positive = 0\n",
        "number_of_negative = 0\n",
        "number_of_neutral = 0 \n",
        "for line in test_data : \n",
        "  if os.path.exists(TEST_DATASET + line[0]):\n",
        "    if line[-2] == 'positive' or line[-2] == 'very_positive':\n",
        "      test_labels.append(0)\n",
        "      number_of_positive += 1\n",
        "    elif line[-2] == 'negative' or line[-2] == 'very_negative':\n",
        "      test_labels.append(1)\n",
        "      number_of_negative += 1\n",
        "    elif line[-2] == 'neutral':\n",
        "      test_labels.append(2)\n",
        "      number_of_neutral += 1\n",
        "    else :\n",
        "      continue\n",
        "    test_images.append(TEST_DATASET + line[0])\n",
        "    test_texts.append(line[3])\n",
        "    if len(line[3].split()) > max_len_text :\n",
        "      max_len_text = len(line[3].split())\n",
        "\n",
        "print('test data : ')\n",
        "print('positive : ' + str(number_of_positive) + ' , negative : ' + str(number_of_negative) + ' , neutral : ' + str(number_of_neutral))\n",
        "print('maximum lenght : ' + str(max_len_text))"
      ],
      "execution_count": 14,
      "outputs": [
        {
          "output_type": "stream",
          "text": [
            "train data :\n",
            "positive : 3472 , negative : 516 , neutral : 1859\n",
            "test data : \n",
            "positive : 506 , negative : 67 , neutral : 258\n",
            "maximum lenght : 188\n"
          ],
          "name": "stdout"
        }
      ]
    },
    {
      "cell_type": "markdown",
      "metadata": {
        "id": "tLVGWnTfsYju",
        "colab_type": "text"
      },
      "source": [
        "**make dataset with tensorflow**"
      ]
    },
    {
      "cell_type": "code",
      "metadata": {
        "id": "Ai3jw48msfDN",
        "colab_type": "code",
        "colab": {}
      },
      "source": [
        "\"\"\"libraries we use\"\"\"\n",
        "try:\n",
        "  # %tensorflow_version only exists in Colab.\n",
        "  %tensorflow_version 2.x\n",
        "except Exception:\n",
        "  pass\n",
        "import numpy as np\n",
        "import tensorflow as tf\n",
        "from tensorflow.keras.preprocessing.text import Tokenizer\n",
        "from tensorflow.keras.preprocessing.sequence import pad_sequences\n",
        "from tensorflow.keras import utils\n",
        "import tensorflow.keras.layers\n",
        "from tensorflow import keras\n",
        "from tensorflow.keras import applications\n",
        "from tensorflow.keras import regularizers\n",
        "from tensorflow.keras import optimizers\n",
        "from tensorflow.keras import backend as K"
      ],
      "execution_count": 0,
      "outputs": []
    },
    {
      "cell_type": "code",
      "metadata": {
        "id": "l9_yHzU3srwz",
        "colab_type": "code",
        "colab": {}
      },
      "source": [
        " # convert lables to cathegorial\n",
        "train_labels = keras.utils.to_categorical(train_labels, num_classes=3, dtype='float32')  \n",
        "test_labels = keras.utils.to_categorical(test_labels, num_classes=3, dtype='float32')  \n",
        "\n",
        "\n",
        "# implementing tokenizer\n",
        "tokenizer = Tokenizer(num_words=10000)\n",
        "tokenizer.fit_on_texts(train_texts + test_texts)\n",
        "sequences = tokenizer.texts_to_sequences(train_texts)\n",
        "train_texts = pad_sequences(sequences, maxlen=max_len_text)\n",
        "sequences = tokenizer.texts_to_sequences(test_texts)\n",
        "test_texts = pad_sequences(sequences, maxlen=max_len_text)\n",
        "word_index = tokenizer.word_index"
      ],
      "execution_count": 0,
      "outputs": []
    },
    {
      "cell_type": "markdown",
      "metadata": {
        "id": "9Ec23yFzuZcE",
        "colab_type": "text"
      },
      "source": [
        "we need a word embedding , we use glove pre-trained word embedding"
      ]
    },
    {
      "cell_type": "code",
      "metadata": {
        "colab_type": "code",
        "id": "2ViReIiCt2-H",
        "outputId": "18ec5354-951d-4b5e-a5bb-88e44ab8b383",
        "colab": {
          "base_uri": "https://localhost:8080/",
          "height": 35
        }
      },
      "source": [
        "!wget http://nlp.stanford.edu/data/glove.6B.zip\n",
        "# !cp /content/drive/My\\ Drive/Memotion/glove.6B.zip /content/\n",
        "!unzip glove.6B.zip\n",
        "\n",
        "embeddings_index = {}\n",
        "f = open('glove.6B.100d.txt')\n",
        "\n",
        "for line in f:\n",
        "  values = line.split()\n",
        "  word = values[0]\n",
        "  coefs = np.asarray(values[1:], dtype='float32')\n",
        "  embeddings_index[word] = coefs\n",
        "\n",
        "f.close()\n",
        "\n",
        "print('Found %s word vectors.' % len(embeddings_index))\n",
        "\n",
        "#  making embedding matrix \n",
        "embedding_dim = 100\n",
        "embedding_matrix = np.zeros((len(word_index) + 1, embedding_dim))\n",
        "for word, i in word_index.items():\n",
        "    embedding_vector = embeddings_index.get(word)\n",
        "    if embedding_vector is not None:\n",
        "      embedding_matrix[i] = embedding_vector"
      ],
      "execution_count": 17,
      "outputs": [
        {
          "output_type": "stream",
          "text": [
            "Found 400000 word vectors.\n"
          ],
          "name": "stdout"
        }
      ]
    },
    {
      "cell_type": "markdown",
      "metadata": {
        "id": "FBk7VNCVus7n",
        "colab_type": "text"
      },
      "source": [
        "now we create dataset using tensorflow"
      ]
    },
    {
      "cell_type": "code",
      "metadata": {
        "id": "e1XSdChLuqK6",
        "colab_type": "code",
        "colab": {}
      },
      "source": [
        "def get_images(inputs,outputs) :\n",
        "  img = tf.io.read_file(inputs[0])\n",
        "  return (img , inputs[1]) , outputs\n",
        "\n",
        "def process_image(inputs,outputs):\n",
        "    img = tf.image.decode_jpeg(inputs[0], channels=3)\n",
        "    img = tf.image.convert_image_dtype(img, tf.float32)\n",
        "    img = tf.image.resize(img, [200, 200])\n",
        "    img = img / 255.0\n",
        "    return (img,inputs[1]),outputs\n",
        "\n",
        "\n",
        "AUTOTUNE = tf.data.experimental.AUTOTUNE\n",
        "X1 = X2 = X3 =  AUTOTUNE \n",
        "train_dataset = tf.data.Dataset.from_tensor_slices(((train_images,train_texts),train_labels))\n",
        "train_dataset = train_dataset.shuffle(len(train_images))\n",
        "train_dataset = train_dataset.map(get_images, num_parallel_calls=X1)\n",
        "train_dataset = train_dataset.map(process_image,num_parallel_calls=X2)\n",
        "train_dataset = train_dataset.batch(batch_size=30)\n",
        "train_dataset = train_dataset.prefetch(buffer_size=X3)\n",
        "\n",
        "AUTOTUNE2 = tf.data.experimental.AUTOTUNE\n",
        "Y1 = Y2 = Y3 =  AUTOTUNE \n",
        "test_dataset = tf.data.Dataset.from_tensor_slices(((test_images,test_texts),test_labels))\n",
        "test_dataset = test_dataset.map(get_images, num_parallel_calls=Y1)\n",
        "test_dataset = test_dataset.map(process_image,num_parallel_calls=Y2)\n",
        "test_dataset = test_dataset.batch(batch_size=100)\n",
        "test_dataset = test_dataset.prefetch(buffer_size=Y3)"
      ],
      "execution_count": 0,
      "outputs": []
    },
    {
      "cell_type": "markdown",
      "metadata": {
        "id": "bD9MB94dTKn-",
        "colab_type": "text"
      },
      "source": [
        "we want to calculate f1-score and recall"
      ]
    },
    {
      "cell_type": "code",
      "metadata": {
        "id": "cgcfyfBw6LJa",
        "colab_type": "code",
        "colab": {}
      },
      "source": [
        "def recall(y_true, y_pred):\n",
        "  true_positives = K.sum(K.round(K.clip(y_true * y_pred, 0, 1)))\n",
        "  possible_positives = K.sum(K.round(K.clip(y_true, 0, 1)))\n",
        "  recall = true_positives / (possible_positives + K.epsilon())\n",
        "  return recall\n",
        "\n",
        "def f1(y_true, y_pred):\n",
        "  def recall(y_true, y_pred):\n",
        "    true_positives = K.sum(K.round(K.clip(y_true * y_pred, 0, 1)))\n",
        "    possible_positives = K.sum(K.round(K.clip(y_true, 0, 1)))\n",
        "    recall = true_positives / (possible_positives + K.epsilon())\n",
        "    return recall\n",
        "\n",
        "  def precision(y_true, y_pred):\n",
        "    true_positives = K.sum(K.round(K.clip(y_true * y_pred, 0, 1)))\n",
        "    predicted_positives = K.sum(K.round(K.clip(y_pred, 0, 1)))\n",
        "    precision = true_positives / (predicted_positives + K.epsilon())\n",
        "    return precision\n",
        "  precision = precision(y_true, y_pred)\n",
        "  recall = recall(y_true, y_pred)\n",
        "  f1 = 2*((precision*recall)/(precision+recall+K.epsilon()))\n",
        "  return f1"
      ],
      "execution_count": 0,
      "outputs": []
    },
    {
      "cell_type": "markdown",
      "metadata": {
        "id": "a0OHFQwfvA6c",
        "colab_type": "text"
      },
      "source": [
        "it is time to create network"
      ]
    },
    {
      "cell_type": "code",
      "metadata": {
        "id": "cl3qSaey7ylm",
        "colab_type": "code",
        "colab": {}
      },
      "source": [
        "def create_model():\n",
        "  image_input = keras.Input(shape=(200,200,3))\n",
        "  cnn1 = keras.layers.Conv2D(50,(5,5),activation='relu')(image_input)\n",
        "  max_pool_1 = keras.layers.MaxPool2D()(cnn1)\n",
        "  cnn2 = keras.layers.Conv2D(25,(5,5),activation='relu')(max_pool_1)\n",
        "  max_pool_2 = keras.layers.MaxPool2D()(cnn2)\n",
        "  cnn3 = keras.layers.Conv2D(25,(4,4),activation='relu')(max_pool_2)\n",
        "  max_pool_3 = keras.layers.MaxPool2D()(cnn3)\n",
        "  cnn4 = keras.layers.Conv2D(15,(3,3),activation='relu',kernel_regularizer=regularizers.l2(0.01))(max_pool_3)\n",
        "  max_pool_4= keras.layers.MaxPool2D()(cnn4)\n",
        "  cnn5 = keras.layers.Conv2D(5,(3,3),activation='relu',kernel_regularizer=regularizers.l2(0.01))(max_pool_4)\n",
        "  flatten = keras.layers.Flatten()(cnn5)\n",
        "\n",
        "  text_input = keras.Input(shape=(max_len_text))\n",
        "  embedding_layer = keras.layers.Embedding(len(word_index) + 1,embedding_dim,weights=[embedding_matrix],trainable=False)\n",
        "  embedded = embedding_layer(text_input)\n",
        "  lstm1 = keras.layers.LSTM(300,return_sequences=True)(embedded)\n",
        "  lstm2 = keras.layers.LSTM(300,return_sequences=True)(lstm1)\n",
        "  lstm3 = keras.layers.LSTM(300,kernel_regularizer=regularizers.l2(0.01))(lstm2)\n",
        "\n",
        "  concatinate = tf.concat([flatten,lstm3] , axis = 1)\n",
        "  dense1 = keras.layers.Dense(100)(concatinate)\n",
        "  dropout = keras.layers.Dropout(0.2)(dense1)\n",
        "  dense2 = keras.layers.Dense(25)(dropout)\n",
        "  dense3 = keras.layers.Dense(3,activation = 'softmax')(dense2)\n",
        "\n",
        "  model = keras.Model([image_input,text_input],dense3)\n",
        "  tf.keras.utils.plot_model(model, 'model.png', show_shapes=True)\n",
        "  model.compile(optimizer='adam', loss='categorical_crossentropy',metrics=['acc',f1,recall]) \n",
        "\n",
        "  return model\n",
        "  "
      ],
      "execution_count": 0,
      "outputs": []
    },
    {
      "cell_type": "code",
      "metadata": {
        "id": "SqxePZ3DvKvD",
        "colab_type": "code",
        "colab": {}
      },
      "source": [
        "model = create_model()\n",
        "\n",
        "checkpoint_callback = tf.keras.callbacks.ModelCheckpoint('model_1_A/', monitor='val_acc',mode='max',verbose=1, save_best_only=True,save_weights_only=True)\n",
        "history = model.fit(train_dataset,epochs = 40,validation_data=test_dataset,callbacks=[checkpoint_callback])"
      ],
      "execution_count": 0,
      "outputs": []
    },
    {
      "cell_type": "markdown",
      "metadata": {
        "id": "mSKRBHCpgYmv",
        "colab_type": "text"
      },
      "source": [
        "polt the training loop"
      ]
    },
    {
      "cell_type": "code",
      "metadata": {
        "id": "FCdPTdItgbbj",
        "colab_type": "code",
        "outputId": "610e8574-8c5f-4323-9443-beca39800633",
        "colab": {
          "base_uri": "https://localhost:8080/",
          "height": 573
        }
      },
      "source": [
        "import matplotlib.pyplot as plt\n",
        "\n",
        "# Plot training & validation accuracy values\n",
        "plt.plot(history.history['acc'])\n",
        "plt.plot(history.history['val_acc'])\n",
        "plt.title('Model accuracy')\n",
        "plt.ylabel('Accuracy')\n",
        "plt.xlabel('Epoch')\n",
        "plt.legend(['Train', 'Test'], loc='upper left')\n",
        "plt.show()\n",
        "\n",
        "# Plot training & validation loss values\n",
        "plt.plot(history.history['loss'])\n",
        "plt.plot(history.history['val_loss'])\n",
        "plt.title('Model loss')\n",
        "plt.ylabel('Loss')\n",
        "plt.xlabel('Epoch')\n",
        "plt.legend(['Train', 'Test'], loc='upper left')\n",
        "plt.show()"
      ],
      "execution_count": 29,
      "outputs": [
        {
          "output_type": "display_data",
          "data": {
            "image/png": "[encoded data removed]",
            "text/plain": [
              "<Figure size 432x288 with 1 Axes>"
            ]
          },
          "metadata": {
            "tags": []
          }
        },
        {
          "output_type": "display_data",
          "data": {
            "image/png": "[encoded data removed]",
            "text/plain": [
              "<Figure size 432x288 with 1 Axes>"
            ]
          },
          "metadata": {
            "tags": []
          }
        }
      ]
    },
    {
      "cell_type": "markdown",
      "metadata": {
        "id": "eJ4zIgo9TAND",
        "colab_type": "text"
      },
      "source": [
        "evaluate the best model"
      ]
    },
    {
      "cell_type": "code",
      "metadata": {
        "id": "LmT_CJlFF1c9",
        "colab_type": "code",
        "outputId": "063563cf-0496-4595-b88f-e04cb2bc5448",
        "colab": {
          "base_uri": "https://localhost:8080/",
          "height": 52
        }
      },
      "source": [
        "model = create_model()\n",
        "model.evaluate(test_dataset)\n",
        "model.load_weights('model_1_A/')\n",
        "score = model.evaluate(test_dataset)"
      ],
      "execution_count": 30,
      "outputs": [
        {
          "output_type": "stream",
          "text": [
            "9/9 [==============================] - 5s 595ms/step - loss: 6.1636 - acc: 0.1396 - f1: 0.0000e+00 - recall: 0.0000e+00\n",
            "9/9 [==============================] - 4s 491ms/step - loss: 0.9248 - acc: 0.6955 - f1: 0.7016 - recall: 0.7016\n"
          ],
          "name": "stdout"
        }
      ]
    },
    {
      "cell_type": "markdown",
      "metadata": {
        "id": "FMogTdn0grg8",
        "colab_type": "text"
      },
      "source": [
        "classification report"
      ]
    },
    {
      "cell_type": "code",
      "metadata": {
        "id": "zq2nfbxRgzU4",
        "colab_type": "code",
        "outputId": "a0b020e7-2ec0-43e6-c20c-880236aca748",
        "colab": {
          "base_uri": "https://localhost:8080/",
          "height": 212
        }
      },
      "source": [
        "from sklearn.metrics import classification_report\n",
        "\n",
        "labels = []\n",
        "score = model.predict(test_dataset)\n",
        "\n",
        "for _ , label in test_dataset :\n",
        "  for i in label :\n",
        "    labels.append(i.numpy())\n",
        "target_names = ['Positive','Negative','Neutral']\n",
        "\n",
        "print(classification_report(labels, score > 0.5, target_names=target_names))"
      ],
      "execution_count": 31,
      "outputs": [
        {
          "output_type": "stream",
          "text": [
            "              precision    recall  f1-score   support\n",
            "\n",
            "    Positive       0.68      0.97      0.80       506\n",
            "    Negative       0.88      0.21      0.34        67\n",
            "     Neutral       0.80      0.29      0.42       258\n",
            "\n",
            "   micro avg       0.70      0.70      0.70       831\n",
            "   macro avg       0.78      0.49      0.52       831\n",
            "weighted avg       0.73      0.70      0.64       831\n",
            " samples avg       0.70      0.70      0.70       831\n",
            "\n"
          ],
          "name": "stdout"
        }
      ]
    },
    {
      "cell_type": "code",
      "metadata": {
        "id": "KvcbWq8_S8Jm",
        "colab_type": "code",
        "outputId": "c6937b2e-94d9-45c9-ff98-6c2ba5ea74d7",
        "colab": {
          "base_uri": "https://localhost:8080/",
          "height": 106
        }
      },
      "source": [
        "!zip -r model_A.zip 'model_1_A'"
      ],
      "execution_count": 32,
      "outputs": [
        {
          "output_type": "stream",
          "text": [
            "  adding: model_1_A/ (stored 0%)\n",
            "  adding: model_1_A/.data-00001-of-00002 (deflated 7%)\n",
            "  adding: model_1_A/checkpoint (deflated 34%)\n",
            "  adding: model_1_A/.index (deflated 72%)\n",
            "  adding: model_1_A/.data-00000-of-00002 (deflated 27%)\n"
          ],
          "name": "stdout"
        }
      ]
    }
  ]
}