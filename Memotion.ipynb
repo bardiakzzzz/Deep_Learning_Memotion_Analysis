{
  "nbformat": 4,
  "nbformat_minor": 0,
  "metadata": {
    "colab": {
      "name": "Memotion.ipynb",
      "provenance": [],
      "collapsed_sections": []
    },
    "kernelspec": {
      "name": "python3",
      "display_name": "Python 3"
    },
    "accelerator": "GPU"
  },
  "cells": [
    {
      "cell_type": "markdown",
      "metadata": {
        "id": "Icor8yn1CNL9",
        "colab_type": "text"
      },
      "source": [
        "**Get Dataset**"
      ]
    },
    {
      "cell_type": "code",
      "metadata": {
        "id": "wZzKFt8UCTLx",
        "colab_type": "code",
        "colab": {
          "base_uri": "https://localhost:8080/",
          "height": 90
        },
        "outputId": "d45cfa8e-bee4-4be9-b2cf-75098c213993"
      },
      "source": [
        "from google.colab import files\n",
        "files.upload()\n",
        "\n",
        "import csv \n",
        "filename = 'data_train.csv'\n",
        "\n",
        "# reading the file into a list\n",
        "data = [] \n",
        "with open(filename, 'r') as csvfile: \n",
        "    csvreader = csv.reader(csvfile)  \n",
        "    for row in csvreader: \n",
        "        data.append(row) \n",
        "csvfile.close()\n",
        "\n",
        "assert len(data) == 6602\n",
        "print('Example :')\n",
        "print(data[0])\n",
        "print(data[1])"
      ],
      "execution_count": 31,
      "outputs": [
        {
          "output_type": "stream",
          "text": [
            "Example :\n",
            "['Image_name', 'Image_URL', 'OCR_extracted_text', 'corrected_text', 'Humour', 'Sarcasm', 'offensive', 'Motivational', 'Overall_Sentiment']\n",
            "['10_year_2r94rv.jpg', 'https://i.imgflip.com/2r94rv.jpg', 'LOOK THERE MY FRIEND LIGHTYEAR NOW ALL SOHALIKUT TREND PLAY THE 10 YEARS CHALLENGE AT FACEBOOK imgflip.com ', 'LOOK THERE MY FRIEND LIGHTYEAR NOW ALL SOHALIKUT TREND PLAY THE 10 YEARS CHALLENGE AT FACEBOOK imgflip.com ', 'hilarious', 'general', 'not_offensive', 'not_motivational', 'very_positive']\n"
          ],
          "name": "stdout"
        }
      ]
    },
    {
      "cell_type": "markdown",
      "metadata": {
        "id": "wKN-CCeoIG2A",
        "colab_type": "text"
      },
      "source": [
        "Some lines has incorrect data e.g. in some lines corrected ocr is empty , in addition in some lines url contains wrong data so we delet lines which does not have 9 columns"
      ]
    },
    {
      "cell_type": "code",
      "metadata": {
        "id": "iRa4gVsSDM3G",
        "colab_type": "code",
        "colab": {
          "base_uri": "https://localhost:8080/",
          "height": 35
        },
        "outputId": "fe2bef5a-7312-4cb8-d5ab-a8164205e188"
      },
      "source": [
        "del data[0] # header part\n",
        "counter = 0  \n",
        "for line in data[:] :\n",
        "  if(line[-1] == ''):\n",
        "    data.remove(line)\n",
        "print('new data has' ,str(len(data)) , 'lines!')"
      ],
      "execution_count": 42,
      "outputs": [
        {
          "output_type": "stream",
          "text": [
            "new data has 6521 lines!\n"
          ],
          "name": "stdout"
        }
      ]
    },
    {
      "cell_type": "markdown",
      "metadata": {
        "id": "I061KaozL1R9",
        "colab_type": "text"
      },
      "source": [
        "Some of corrected OCR still contains websites url or username ,We try to delete most of them"
      ]
    },
    {
      "cell_type": "code",
      "metadata": {
        "id": "DsYujnWPIi_Z",
        "colab_type": "code",
        "colab": {}
      },
      "source": [
        "for line in data :\n",
        "  corrected_ocr = ' '.join(item for item in line[3].split() if not (item.startswith('@') or item.endswith('.com') or item.endswith('.net')))"
      ],
      "execution_count": 0,
      "outputs": []
    }
  ]
}