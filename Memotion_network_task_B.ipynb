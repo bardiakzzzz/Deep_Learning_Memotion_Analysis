{
  "nbformat": 4,
  "nbformat_minor": 0,
  "metadata": {
    "colab": {
      "name": "Memotion_network_task_B.ipynb",
      "provenance": [],
      "collapsed_sections": []
    },
    "kernelspec": {
      "name": "python3",
      "display_name": "Python 3"
    },
    "accelerator": "GPU"
  },
  "cells": [
    {
      "cell_type": "markdown",
      "metadata": {
        "id": "ZB2HG5cimwDB",
        "colab_type": "text"
      },
      "source": [
        "**Getting Data**\n",
        "\n",
        "In previous notebook we downloaded photos and save them on google drive "
      ]
    },
    {
      "cell_type": "code",
      "metadata": {
        "id": "rViDsspAm2ZL",
        "colab_type": "code",
        "outputId": "a993ffa0-bffe-4fdb-b617-2bdaa2e21a0c",
        "colab": {
          "base_uri": "https://localhost:8080/",
          "height": 268
        }
      },
      "source": [
        "\"\"\"libraries we use\"\"\"\n",
        "!sudo apt-get install unzip\n",
        "from google.colab import drive\n",
        "from google.colab import files\n",
        "import csv \n",
        "drive.mount('/content/drive')\n",
        "import os.path"
      ],
      "execution_count": 1,
      "outputs": [
        {
          "output_type": "stream",
          "text": [
            "Reading package lists... Done\n",
            "Building dependency tree       \n",
            "Reading state information... Done\n",
            "unzip is already the newest version (6.0-21ubuntu1).\n",
            "The following package was automatically installed and is no longer required:\n",
            "  libnvidia-common-430\n",
            "Use 'sudo apt autoremove' to remove it.\n",
            "0 upgraded, 0 newly installed, 0 to remove and 7 not upgraded.\n",
            "Go to this URL in a browser: https://accounts.google.com/o/oauth2/auth?client_id=947318989803-6bn6qk8qdgf4n4g3pfee6491hc0brc4i.apps.googleusercontent.com&redirect_uri=urn%3aietf%3awg%3aoauth%3a2.0%3aoob&response_type=code&scope=email%20https%3a%2f%2fwww.googleapis.com%2fauth%2fdocs.test%20https%3a%2f%2fwww.googleapis.com%2fauth%2fdrive%20https%3a%2f%2fwww.googleapis.com%2fauth%2fdrive.photos.readonly%20https%3a%2f%2fwww.googleapis.com%2fauth%2fpeopleapi.readonly\n",
            "\n",
            "Enter your authorization code:\n",
            "··········\n",
            "Mounted at /content/drive\n"
          ],
          "name": "stdout"
        }
      ]
    },
    {
      "cell_type": "markdown",
      "metadata": {
        "id": "cvHZwXW_pv9E",
        "colab_type": "text"
      },
      "source": [
        "Upload csv file to read data from it"
      ]
    },
    {
      "cell_type": "code",
      "metadata": {
        "id": "uguFnfLOnAiL",
        "colab_type": "code",
        "outputId": "319ebb7d-0cc3-4d6e-a02a-c6edff6aa8fe",
        "colab": {
          "base_uri": "https://localhost:8080/",
          "height": 90
        }
      },
      "source": [
        "!cp drive/My\\ Drive/Memotion/data_train.csv /content/\n",
        "!cp drive/My\\ Drive/Memotion/data_test.csv /content/\n",
        "\n",
        "\n",
        "train_filename = 'data_train.csv'\n",
        "test_filename = 'data_test.csv'\n",
        "\n",
        "# reading the file into a list\n",
        "train_data = [] \n",
        "test_data = []\n",
        "with open(train_filename, 'r') as csvfile: \n",
        "    csvreader = csv.reader(csvfile)  \n",
        "    for row in csvreader: \n",
        "        train_data.append(row) \n",
        "csvfile.close()\n",
        "\n",
        "with open(test_filename, 'r') as csvfile: \n",
        "    csvreader = csv.reader(csvfile)  \n",
        "    for row in csvreader: \n",
        "        test_data.append(row) \n",
        "csvfile.close()\n",
        "\n",
        "print('Example :')\n",
        "print(train_data[0])\n",
        "print(train_data[1])"
      ],
      "execution_count": 2,
      "outputs": [
        {
          "output_type": "stream",
          "text": [
            "Example :\n",
            "['Image_name', 'Image_URL', 'OCR_extracted_text', 'corrected_text', 'Humour', 'Sarcasm', 'offensive', 'Motivational', 'Overall_Sentiment']\n",
            "['10_year_2r94rv.jpg', 'https://i.imgflip.com/2r94rv.jpg', 'LOOK THERE MY FRIEND LIGHTYEAR NOW ALL SOHALIKUT TREND PLAY THE 10 YEARS CHALLENGE AT FACEBOOK imgflip.com ', 'LOOK THERE MY FRIEND LIGHTYEAR NOW ALL SOHALIKUT TREND PLAY THE 10 YEARS CHALLENGE AT FACEBOOK imgflip.com ', 'hilarious', 'general', 'not_offensive', 'not_motivational', 'very_positive']\n"
          ],
          "name": "stdout"
        }
      ]
    },
    {
      "cell_type": "markdown",
      "metadata": {
        "id": "wKN-CCeoIG2A",
        "colab_type": "text"
      },
      "source": [
        "Some lines has incorrect data e.g. in some lines corrected ocr is empty , in addition in some lines url contains wrong data so we delet lines which does not have 9 columns"
      ]
    },
    {
      "cell_type": "code",
      "metadata": {
        "id": "iRa4gVsSDM3G",
        "colab_type": "code",
        "outputId": "e3f8bdeb-8bd8-4000-fea6-5ab2b6384462",
        "colab": {
          "base_uri": "https://localhost:8080/",
          "height": 52
        }
      },
      "source": [
        "del train_data[0] # header part\n",
        "counter = 0  \n",
        "for line in train_data[:] :\n",
        "  if(line[-1] == ''):\n",
        "    train_data.remove(line)\n",
        "print('new train data has' ,str(len(train_data)) , 'lines!')\n",
        "\n",
        "del test_data[0] # header part\n",
        "counter = 0  \n",
        "for line in test_data[:] :\n",
        "  if(line[-1] == ''):\n",
        "    test_data.remove(line)\n",
        "print('new test data has' ,str(len(test_data)) , 'lines!')"
      ],
      "execution_count": 3,
      "outputs": [
        {
          "output_type": "stream",
          "text": [
            "new train data has 6521 lines!\n",
            "new test data has 914 lines!\n"
          ],
          "name": "stdout"
        }
      ]
    },
    {
      "cell_type": "markdown",
      "metadata": {
        "id": "I061KaozL1R9",
        "colab_type": "text"
      },
      "source": [
        "Some of corrected OCR still contains websites url or username ,We try to delete most of them"
      ]
    },
    {
      "cell_type": "code",
      "metadata": {
        "id": "DsYujnWPIi_Z",
        "colab_type": "code",
        "colab": {}
      },
      "source": [
        "for line in train_data :\n",
        "  corrected_ocr = ' '.join(item for item in line[3].split() if not (item.startswith('@') or item.endswith('.com') or item.endswith('.net')))\n",
        "  line[3] = corrected_ocr\n",
        "\n",
        "for line in test_data :\n",
        "  corrected_ocr = ' '.join(item for item in line[3].split() if not (item.startswith('@') or item.endswith('.com') or item.endswith('.net')))\n",
        "  line[3] = corrected_ocr"
      ],
      "execution_count": 0,
      "outputs": []
    },
    {
      "cell_type": "markdown",
      "metadata": {
        "id": "B3mWKPAXpYoN",
        "colab_type": "text"
      },
      "source": [
        "get prepared dataset from google drive"
      ]
    },
    {
      "cell_type": "code",
      "metadata": {
        "id": "vpnLRcFzoZub",
        "colab_type": "code",
        "colab": {}
      },
      "source": [
        "!cp drive/My\\ Drive/Memotion/train_dataset.zip /content/\n",
        "!cp drive/My\\ Drive/Memotion/test_dataset.zip /content/\n",
        "\n",
        "!unzip train_dataset.zip\n",
        "!unzip test_dataset.zip"
      ],
      "execution_count": 0,
      "outputs": []
    },
    {
      "cell_type": "markdown",
      "metadata": {
        "id": "8lhcRPTE1rWl",
        "colab_type": "text"
      },
      "source": [
        "some photos can not convert to jpeg so we delete them"
      ]
    },
    {
      "cell_type": "code",
      "metadata": {
        "id": "2Td-FdUA0LgG",
        "colab_type": "code",
        "outputId": "c9307c2e-2dba-4bba-9dbc-a79c8df8f0e7",
        "colab": {
          "base_uri": "https://localhost:8080/",
          "height": 70
        }
      },
      "source": [
        "import os\n",
        "try:\n",
        "  # %tensorflow_version only exists in Colab.\n",
        "  %tensorflow_version 2.x\n",
        "except Exception:\n",
        "  pass\n",
        "import tensorflow as tf\n",
        "\n",
        "TRAIN_DATASET = 'train_dataset/'\n",
        "TEST_DATASET = 'test_dataset/'\n",
        "\n",
        "for image in os.listdir(TRAIN_DATASET) :\n",
        "  try :\n",
        "    img = tf.io.read_file(TRAIN_DATASET + image)\n",
        "    img = tf.image.decode_jpeg(img,channels=3)\n",
        "  except:\n",
        "    os.remove(TRAIN_DATASET + image)\n",
        "print(\"number of photos in train : \" , len(os.listdir(TRAIN_DATASET)))\n",
        "\n",
        "for image in os.listdir(TEST_DATASET) :\n",
        "  try :\n",
        "    img = tf.io.read_file(TEST_DATASET + image)\n",
        "    img = tf.image.decode_jpeg(img,channels=3)\n",
        "  except:\n",
        "    os.remove(TEST_DATASET + image)\n",
        "print(\"number of photos in test : \" , len(os.listdir(TEST_DATASET)))"
      ],
      "execution_count": 6,
      "outputs": [
        {
          "output_type": "stream",
          "text": [
            "TensorFlow 2.x selected.\n",
            "number of photos in train :  5847\n",
            "number of photos in test :  831\n"
          ],
          "name": "stdout"
        }
      ]
    },
    {
      "cell_type": "markdown",
      "metadata": {
        "id": "HdNTSuK9p1BQ",
        "colab_type": "text"
      },
      "source": [
        "\n",
        "Now we want to get images and texts with their labels for Humour ,Sarcasm and Offensive"
      ]
    },
    {
      "cell_type": "code",
      "metadata": {
        "id": "EhXGI_vbpW71",
        "colab_type": "code",
        "colab": {}
      },
      "source": [
        "train_images = []\n",
        "train_texts = []\n",
        "train_labels = []\n",
        "\n",
        "max_len_text = 0\n",
        "\n",
        "\n",
        "for line in train_data : \n",
        "  if os.path.exists(TRAIN_DATASET + line[0]):\n",
        "    train_images.append(TRAIN_DATASET + line[0])\n",
        "    train_texts.append(line[3])\n",
        "    if len(line[3].split()) > max_len_text :\n",
        "      max_len_text = len(line[3].split())\n",
        "    label=[]\n",
        "    is_other = [1,0]\n",
        "    if line[4] == 'not_funny':\n",
        "      label.append([0,1])\n",
        "    else :\n",
        "      label.append([1,0])\n",
        "      is_other = [0,1]\n",
        "    if line[5] == 'not_sarcastic' or line[5] == 'general':\n",
        "      label.append([0,1])\n",
        "    else :\n",
        "      label.append([1,0])\n",
        "      is_other = [0,1]\n",
        "    if line[6] == 'not_offensive':\n",
        "      label.append([0,1])\n",
        "    else :\n",
        "      label.append([1,0])\n",
        "      is_other = [0,1]\n",
        "     \n",
        "    label.append(is_other)\n",
        "    train_labels.append(label)\n",
        "\n",
        "test_images = []\n",
        "test_texts = []\n",
        "test_labels = []\n",
        "\n",
        "for line in test_data : \n",
        "  if os.path.exists(TEST_DATASET + line[0]):\n",
        "    test_images.append(TEST_DATASET + line[0])\n",
        "    test_texts.append(line[3])\n",
        "    if len(line[3].split()) > max_len_text :\n",
        "      max_len_text = len(line[3].split())\n",
        "    label=[]\n",
        "    is_other = [1,0]\n",
        "    if line[4] == 'not_funny':\n",
        "      label.append([0,1])\n",
        "    else :\n",
        "      label.append([1,0])\n",
        "      is_other = [0,1]\n",
        "    if line[5] == 'not_sarcastic' or line[5] == 'general':\n",
        "      label.append([0,1])\n",
        "    else :\n",
        "      label.append([1,0])\n",
        "      is_other = [0,1]\n",
        "    if line[6] == 'not_offensive':\n",
        "      label.append([0,1])\n",
        "    else :\n",
        "      label.append([1,0])\n",
        "      is_other = [0,1]\n",
        "    label.append(is_other)\n",
        "    test_labels.append(label)\n",
        "\n"
      ],
      "execution_count": 0,
      "outputs": []
    },
    {
      "cell_type": "markdown",
      "metadata": {
        "id": "tLVGWnTfsYju",
        "colab_type": "text"
      },
      "source": [
        "\n",
        "**make dataset with tensorflow**"
      ]
    },
    {
      "cell_type": "code",
      "metadata": {
        "id": "Ai3jw48msfDN",
        "colab_type": "code",
        "colab": {}
      },
      "source": [
        "\"\"\"libraries we use\"\"\"\n",
        "try:\n",
        "  # %tensorflow_version only exists in Colab.\n",
        "  %tensorflow_version 2.x\n",
        "except Exception:\n",
        "  pass\n",
        "import numpy as np\n",
        "import tensorflow as tf\n",
        "from tensorflow.keras.preprocessing.text import Tokenizer\n",
        "from tensorflow.keras.preprocessing.sequence import pad_sequences\n",
        "from tensorflow.keras import utils\n",
        "import tensorflow.keras.layers\n",
        "from tensorflow import keras\n",
        "from tensorflow.keras import applications\n",
        "from tensorflow.keras import regularizers\n",
        "from tensorflow.keras import optimizers\n",
        "from tensorflow.keras import backend as K"
      ],
      "execution_count": 0,
      "outputs": []
    },
    {
      "cell_type": "code",
      "metadata": {
        "id": "l9_yHzU3srwz",
        "colab_type": "code",
        "colab": {}
      },
      "source": [
        "# implementing tokenizer\n",
        "tokenizer = Tokenizer(num_words=10000)\n",
        "tokenizer.fit_on_texts(train_texts + test_texts)\n",
        "sequences = tokenizer.texts_to_sequences(train_texts)\n",
        "train_texts = pad_sequences(sequences, maxlen=max_len_text)\n",
        "sequences = tokenizer.texts_to_sequences(test_texts)\n",
        "test_texts = pad_sequences(sequences, maxlen=max_len_text)\n",
        "word_index = tokenizer.word_index"
      ],
      "execution_count": 0,
      "outputs": []
    },
    {
      "cell_type": "markdown",
      "metadata": {
        "id": "9Ec23yFzuZcE",
        "colab_type": "text"
      },
      "source": [
        "we need a word embedding , we use glove pre-trained word embedding"
      ]
    },
    {
      "cell_type": "code",
      "metadata": {
        "colab_type": "code",
        "id": "2ViReIiCt2-H",
        "outputId": "f227de2b-457b-47d7-a5b5-e6f7867b536e",
        "colab": {
          "base_uri": "https://localhost:8080/",
          "height": 35
        }
      },
      "source": [
        "# !wget http://nlp.stanford.edu/data/glove.6B.zip\n",
        "# !cp /content/drive/My\\ Drive/Memotion/glove.6B.zip /content/\n",
        "# !unzip glove.6B.zip\n",
        "\n",
        "embeddings_index = {}\n",
        "f = open('glove.6B.100d.txt')\n",
        "\n",
        "for line in f:\n",
        "  values = line.split()\n",
        "  word = values[0]\n",
        "  coefs = np.asarray(values[1:], dtype='float32')\n",
        "  embeddings_index[word] = coefs\n",
        "\n",
        "f.close()\n",
        "\n",
        "print('Found %s word vectors.' % len(embeddings_index))\n",
        "\n",
        "#  making embedding matrix \n",
        "embedding_dim = 100\n",
        "embedding_matrix = np.zeros((len(word_index) + 1, embedding_dim))\n",
        "for word, i in word_index.items():\n",
        "    embedding_vector = embeddings_index.get(word)\n",
        "    if embedding_vector is not None:\n",
        "      embedding_matrix[i] = embedding_vector"
      ],
      "execution_count": 27,
      "outputs": [
        {
          "output_type": "stream",
          "text": [
            "Found 400000 word vectors.\n"
          ],
          "name": "stdout"
        }
      ]
    },
    {
      "cell_type": "markdown",
      "metadata": {
        "id": "FBk7VNCVus7n",
        "colab_type": "text"
      },
      "source": [
        "now we create dataset using tensorflow"
      ]
    },
    {
      "cell_type": "code",
      "metadata": {
        "id": "e1XSdChLuqK6",
        "colab_type": "code",
        "colab": {}
      },
      "source": [
        "def get_images(inputs,outputs) :\n",
        "  img = tf.io.read_file(inputs[0])\n",
        "  return (img , inputs[1]) , outputs\n",
        "\n",
        "def process_image(inputs,outputs):\n",
        "    img = tf.image.decode_jpeg(inputs[0], channels=3)\n",
        "    img = tf.image.convert_image_dtype(img, tf.float32)\n",
        "    img = tf.image.resize(img, [200, 200])\n",
        "    img = img / 255.0\n",
        "    return (img,inputs[1]),outputs\n",
        "\n",
        "def decode_label(inputs,outputs):\n",
        "    return inputs,(outputs[0],outputs[1],outputs[2],outputs[3])\n",
        "\n",
        "\n",
        "AUTOTUNE = tf.data.experimental.AUTOTUNE\n",
        "X1 = X2 = X3 = X4 =  AUTOTUNE \n",
        "train_dataset = tf.data.Dataset.from_tensor_slices(((train_images,train_texts),train_labels))\n",
        "train_dataset = train_dataset.shuffle(len(train_images))\n",
        "train_dataset = train_dataset.map(get_images, num_parallel_calls=X1)\n",
        "train_dataset = train_dataset.map(process_image,num_parallel_calls=X2)\n",
        "train_dataset = train_dataset.map(decode_label,num_parallel_calls=X3)\n",
        "train_dataset = train_dataset.batch(batch_size=30)\n",
        "train_dataset = train_dataset.prefetch(buffer_size=X4)\n",
        "\n",
        "AUTOTUNE2 = tf.data.experimental.AUTOTUNE\n",
        "Y1 = Y2 = Y3 = Y4 =  AUTOTUNE\n",
        "test_dataset = tf.data.Dataset.from_tensor_slices(((test_images,test_texts),test_labels))\n",
        "test_dataset = test_dataset.map(get_images, num_parallel_calls=Y1)\n",
        "test_dataset = test_dataset.map(process_image,num_parallel_calls=Y2)\n",
        "test_dataset = test_dataset.map(decode_label,num_parallel_calls=Y3)\n",
        "test_dataset = test_dataset.batch(batch_size=100)\n",
        "test_dataset = test_dataset.prefetch(buffer_size=Y4)"
      ],
      "execution_count": 0,
      "outputs": []
    },
    {
      "cell_type": "markdown",
      "metadata": {
        "id": "a0OHFQwfvA6c",
        "colab_type": "text"
      },
      "source": [
        "it is time to create network"
      ]
    },
    {
      "cell_type": "code",
      "metadata": {
        "id": "cl3qSaey7ylm",
        "colab_type": "code",
        "colab": {}
      },
      "source": [
        "def create_model():\n",
        "  image_input = keras.Input(shape=(200,200,3))\n",
        "  cnn1 = keras.layers.Conv2D(50,(5,5),activation='relu')(image_input)\n",
        "  max_pool_1 = keras.layers.MaxPool2D()(cnn1)\n",
        "  cnn2 = keras.layers.Conv2D(25,(5,5),activation='relu')(max_pool_1)\n",
        "  max_pool_2 = keras.layers.MaxPool2D()(cnn2)\n",
        "  cnn3 = keras.layers.Conv2D(25,(4,4),activation='relu')(max_pool_2)\n",
        "  max_pool_3 = keras.layers.MaxPool2D()(cnn3)\n",
        "  cnn4 = keras.layers.Conv2D(15,(3,3),activation='relu')(max_pool_3)\n",
        "  max_pool_4= keras.layers.MaxPool2D()(cnn4)\n",
        "  cnn5 = keras.layers.Conv2D(5,(3,3),activation='relu',kernel_regularizer=regularizers.l2(0.01))(max_pool_4)\n",
        "  flatten = keras.layers.Flatten()(cnn5)\n",
        "\n",
        "  text_input = keras.Input(shape=(max_len_text))\n",
        "  embedding_layer = keras.layers.Embedding(len(word_index) + 1,embedding_dim,weights=[embedding_matrix],name = 'embedding_layer',trainable=False)\n",
        "  embedded = embedding_layer(text_input)\n",
        "  lstm1 = keras.layers.LSTM(300,return_sequences=True)(embedded)\n",
        "  lstm2 = keras.layers.LSTM(300,return_sequences=True)(lstm1)\n",
        "  lstm3 = keras.layers.LSTM(300,kernel_regularizer=regularizers.l2(0.01))(lstm2)\n",
        "\n",
        "  concatinate = tf.concat([flatten,lstm3] , axis = 1)\n",
        "  dense1 = keras.layers.Dense(100)(concatinate)\n",
        "  dropout = keras.layers.Dropout(0.2)(dense1)\n",
        "  dense2 = keras.layers.Dense(25)(dropout)\n",
        "  dense3 = keras.layers.Dense(2,activation = 'softmax',name = 'Humour')(dense2)\n",
        "  dense4 = keras.layers.Dense(2,activation = 'softmax',name = 'Sarcasm')(dense2)\n",
        "  dense5 = keras.layers.Dense(2,activation = 'softmax',name = 'Offensive')(dense2)\n",
        "  dense6 = keras.layers.Dense(2,activation = 'softmax',name = 'Other')(dense2)\n",
        "\n",
        "  model = keras.Model([image_input,text_input],[dense3,dense4,dense5,dense6])\n",
        "\n",
        "  \n",
        "  tf.keras.utils.plot_model(model, 'model.png', show_shapes=True)\n",
        "  model.compile(optimizer='adam' , loss='binary_crossentropy',metrics=['acc']) \n",
        "\n",
        "  return model"
      ],
      "execution_count": 0,
      "outputs": []
    },
    {
      "cell_type": "code",
      "metadata": {
        "id": "SqxePZ3DvKvD",
        "colab_type": "code",
        "colab": {}
      },
      "source": [
        "model = create_model()\n",
        "\n",
        "checkpoint_callback_2 = tf.keras.callbacks.ModelCheckpoint('model_B/', monitor='val_Offensive_acc', verbose=1, save_best_only=True,save_weights_only=True, mode='max')\n",
        "\n",
        "history = model.fit(train_dataset,epochs = 40,validation_data=test_dataset,callbacks=[checkpoint_callback_1,checkpoint_callback_2])"
      ],
      "execution_count": 0,
      "outputs": []
    },
    {
      "cell_type": "markdown",
      "metadata": {
        "id": "gh56UILceoTJ",
        "colab_type": "text"
      },
      "source": [
        "plot the training loop"
      ]
    },
    {
      "cell_type": "code",
      "metadata": {
        "id": "2CQPd77hena2",
        "colab_type": "code",
        "outputId": "dca55252-c0d3-4cc7-92fa-98a2af0c02d5",
        "colab": {
          "base_uri": "https://localhost:8080/",
          "height": 1000
        }
      },
      "source": [
        "import matplotlib.pyplot as plt\n",
        "\n",
        "# Plot training & validation loss values\n",
        "plt.plot(history.history['loss'])\n",
        "plt.plot(history.history['val_loss'])\n",
        "plt.title('Model loss')\n",
        "plt.ylabel('Loss')\n",
        "plt.xlabel('Epoch')\n",
        "plt.legend(['Train', 'Test'], loc='upper left')\n",
        "plt.show()\n",
        "\n",
        "\n",
        "# Plot training & validation acc values\n",
        "plt.plot(history.history['Humour_acc'])\n",
        "plt.plot(history.history['val_Humour_acc'])\n",
        "plt.title('Model Acc Humour')\n",
        "plt.ylabel('Acc')\n",
        "plt.xlabel('Epoch')\n",
        "plt.legend(['Train', 'Test'], loc='upper left')\n",
        "plt.show()\n",
        "\n",
        "# Plot training & validation acc values\n",
        "plt.plot(history.history['Sarcasm_acc'])\n",
        "plt.plot(history.history['val_Sarcasm_acc'])\n",
        "plt.title('Model Acc Sarcasm')\n",
        "plt.ylabel('Acc')\n",
        "plt.xlabel('Epoch')\n",
        "plt.legend(['Train', 'Test'], loc='upper left')\n",
        "plt.show()\n",
        "\n",
        "# Plot training & validation acc values\n",
        "plt.plot(history.history['Offensive_acc'])\n",
        "plt.plot(history.history['val_Offensive_acc'])\n",
        "plt.title('Model Acc Offensive')\n",
        "plt.ylabel('Acc')\n",
        "plt.xlabel('Epoch')\n",
        "plt.legend(['Train', 'Test'], loc='upper left')\n",
        "plt.show()\n",
        "\n",
        "# Plot training & validation acc values\n",
        "plt.plot(history.history['Other_acc'])\n",
        "plt.plot(history.history['val_Other_acc'])\n",
        "plt.title('Model Acc Other')\n",
        "plt.ylabel('Acc')\n",
        "plt.xlabel('Epoch')\n",
        "plt.legend(['Train', 'Test'], loc='upper left')\n",
        "plt.show()"
      ],
      "execution_count": 42,
      "outputs": [
        {
          "output_type": "display_data",
          "data": {
            "image/png": "[encoded data removed]",
            "text/plain": [
              "<Figure size 432x288 with 1 Axes>"
            ]
          },
          "metadata": {
            "tags": []
          }
        },
        {
          "output_type": "display_data",
          "data": {
            "image/png": "[encoded data removed]",
            "text/plain": [
              "<Figure size 432x288 with 1 Axes>"
            ]
          },
          "metadata": {
            "tags": []
          }
        },
        {
          "output_type": "display_data",
          "data": {
            "image/png": "[encoded data removed]",
            "text/plain": [
              "<Figure size 432x288 with 1 Axes>"
            ]
          },
          "metadata": {
            "tags": []
          }
        },
        {
          "output_type": "display_data",
          "data": {
            "image/png": "[encoded data removed]",
            "text/plain": [
              "<Figure size 432x288 with 1 Axes>"
            ]
          },
          "metadata": {
            "tags": []
          }
        },
        {
          "output_type": "display_data",
          "data": {
            "image/png": "[encoded data removed]",
            "text/plain": [
              "<Figure size 432x288 with 1 Axes>"
            ]
          },
          "metadata": {
            "tags": []
          }
        }
      ]
    },
    {
      "cell_type": "markdown",
      "metadata": {
        "id": "Wf6sD7TKDeB3",
        "colab_type": "text"
      },
      "source": [
        "evaluate the best model "
      ]
    },
    {
      "cell_type": "code",
      "metadata": {
        "id": "SfrY6re7Rjzb",
        "colab_type": "code",
        "outputId": "a646781d-09bd-49cd-853e-aa299e6ccd9b",
        "colab": {
          "base_uri": "https://localhost:8080/",
          "height": 90
        }
      },
      "source": [
        "model = create_model()\n",
        "model.evaluate(test_dataset)\n",
        "model.load_weights('model_B/')\n",
        "score = model.evaluate(test_dataset)\n",
        "avg_acc = (score[-1] + score[-2] + score[-3] + score[-4])/4\n",
        "print('Total accuracy : ' , avg_acc)"
      ],
      "execution_count": 43,
      "outputs": [
        {
          "output_type": "stream",
          "text": [
            "9/9 [==============================] - 6s 659ms/step - loss: 7.6258 - Humour_loss: 0.6951 - Sarcasm_loss: 0.6910 - Offensive_loss: 0.6935 - Other_loss: 0.6846 - Humour_acc: 0.4958 - Sarcasm_acc: 0.6847 - Offensive_acc: 0.4308 - Other_acc: 0.3369\n",
            "9/9 [==============================] - 5s 568ms/step - loss: 2.2827 - Humour_loss: 0.5443 - Sarcasm_loss: 0.5727 - Offensive_loss: 0.6405 - Other_loss: 0.4879 - Humour_acc: 0.8375 - Sarcasm_acc: 0.7918 - Offensive_acc: 0.6980 - Other_acc: 0.9146\n",
            "Total accuracy :  0.8104693293571472\n"
          ],
          "name": "stdout"
        }
      ]
    },
    {
      "cell_type": "markdown",
      "metadata": {
        "id": "QE_pZlv4DiC-",
        "colab_type": "text"
      },
      "source": [
        "we have to get f1-score and recall for this task"
      ]
    },
    {
      "cell_type": "code",
      "metadata": {
        "id": "3FcAIytDS5GN",
        "colab_type": "code",
        "outputId": "c1c65895-9269-4cd5-8dae-39b7dff19d75",
        "colab": {
          "base_uri": "https://localhost:8080/",
          "height": 52
        }
      },
      "source": [
        "from sklearn.metrics import f1_score\n",
        "from sklearn.metrics import recall_score\n",
        "\n",
        "\n",
        "Humour_labels = []\n",
        "Sarcasm_labels = []\n",
        "Offensive_labels = []\n",
        "Other_labels = []\n",
        "\n",
        "score = model.predict(test_dataset)\n",
        "\n",
        "for _, label in test_dataset: \n",
        "    humour_label = label[0]\n",
        "    sarcasm_label = label[1]\n",
        "    offensive_label = label[2]\n",
        "    other_label = label[3]\n",
        "    for i in humour_label :\n",
        "      Humour_labels.append(i)\n",
        "    for i in sarcasm_label :\n",
        "      Sarcasm_labels.append(i)\n",
        "    for i in offensive_label :\n",
        "      Offensive_labels.append(i)\n",
        "    for i in other_label :\n",
        "      Other_labels.append(i)\n",
        "\n",
        "f1_humour = f1_score(Humour_labels,score[0] > 0.5,average='micro')\n",
        "f1_sarcasm = f1_score(Sarcasm_labels,score[1] > 0.5,average='micro')\n",
        "f1_offensive = f1_score(Offensive_labels,score[2] > 0.5,average='micro')\n",
        "f1_other = f1_score(Other_labels,score[3] > 0.5,average='micro')\n",
        "\n",
        "f1_score = (f1_humour + f1_sarcasm + f1_offensive + f1_other)/4\n",
        "print('f1_score : ' , f1_score)\n",
        "\n",
        "recall_humour = recall_score(Humour_labels,score[0] > 0.5,average='micro')\n",
        "recall_sarcasm = recall_score(Sarcasm_labels,score[1] > 0.5,average='micro')\n",
        "recall_offensive = recall_score(Offensive_labels,score[2] > 0.5,average='micro')\n",
        "recall_other = recall_score(Other_labels,score[3] > 0.5,average='micro')\n",
        "\n",
        "recall = (recall_humour + recall_sarcasm + recall_offensive + recall_other)/4\n",
        "print('recall : ' , recall)\n"
      ],
      "execution_count": 44,
      "outputs": [
        {
          "output_type": "stream",
          "text": [
            "f1_score :  0.8104693140794224\n",
            "recall :  0.8104693140794224\n"
          ],
          "name": "stdout"
        }
      ]
    },
    {
      "cell_type": "code",
      "metadata": {
        "id": "n9bgQqDob8wd",
        "colab_type": "code",
        "outputId": "d5d611fc-a2e9-4375-977b-2a89811f1ecd",
        "colab": {
          "base_uri": "https://localhost:8080/",
          "height": 728
        }
      },
      "source": [
        "from sklearn.metrics import classification_report\n",
        "\n",
        "target_names_1 = ['Humour','Not Humour']\n",
        "target_names_2 = ['Sarcasm','Not Sarcasm']\n",
        "target_names_3 = ['Offensive','Not Offensive']\n",
        "target_names_4 = ['Other','Not Other']\n",
        "\n",
        "Humour_labels = []\n",
        "Sarcasm_labels = []\n",
        "Offensive_labels = []\n",
        "Other_labels = []\n",
        "\n",
        "score = model.predict(test_dataset)\n",
        "\n",
        "for _, label in test_dataset: \n",
        "    humour_label = label[0]\n",
        "    sarcasm_label = label[1]\n",
        "    offensive_label = label[2]\n",
        "    other_label = label[3]\n",
        "    for i in humour_label :\n",
        "      Humour_labels.append(i)\n",
        "    for i in sarcasm_label :\n",
        "      Sarcasm_labels.append(i)\n",
        "    for i in offensive_label :\n",
        "      Offensive_labels.append(i)\n",
        "    for i in other_label :\n",
        "      Other_labels.append(i)\n",
        "\n",
        "print(classification_report(Humour_labels, score[0] > 0.5, target_names=target_names_1))\n",
        "print(classification_report(Sarcasm_labels, score[1] > 0.5, target_names=target_names_2))\n",
        "print(classification_report(Offensive_labels, score[2] > 0.5, target_names=target_names_3))\n",
        "print(classification_report(Other_labels, score[3] > 0.5, target_names=target_names_4))"
      ],
      "execution_count": 45,
      "outputs": [
        {
          "output_type": "stream",
          "text": [
            "              precision    recall  f1-score   support\n",
            "\n",
            "      Humour       0.83      0.99      0.90       645\n",
            "  Not Humour       0.90      0.31      0.46       186\n",
            "\n",
            "   micro avg       0.84      0.84      0.84       831\n",
            "   macro avg       0.87      0.65      0.68       831\n",
            "weighted avg       0.85      0.84      0.80       831\n",
            " samples avg       0.84      0.84      0.84       831\n",
            "\n",
            "              precision    recall  f1-score   support\n",
            "\n",
            "     Sarcasm       0.87      0.26      0.41       223\n",
            " Not Sarcasm       0.79      0.99      0.87       608\n",
            "\n",
            "   micro avg       0.79      0.79      0.79       831\n",
            "   macro avg       0.83      0.62      0.64       831\n",
            "weighted avg       0.81      0.79      0.75       831\n",
            " samples avg       0.79      0.79      0.79       831\n",
            "\n",
            "               precision    recall  f1-score   support\n",
            "\n",
            "    Offensive       0.67      0.97      0.80       501\n",
            "Not Offensive       0.88      0.28      0.42       330\n",
            "\n",
            "    micro avg       0.70      0.70      0.70       831\n",
            "    macro avg       0.77      0.63      0.61       831\n",
            " weighted avg       0.75      0.70      0.65       831\n",
            "  samples avg       0.70      0.70      0.70       831\n",
            "\n",
            "              precision    recall  f1-score   support\n",
            "\n",
            "       Other       0.94      0.32      0.48       102\n",
            "   Not Other       0.91      1.00      0.95       729\n",
            "\n",
            "   micro avg       0.91      0.91      0.91       831\n",
            "   macro avg       0.93      0.66      0.72       831\n",
            "weighted avg       0.92      0.91      0.90       831\n",
            " samples avg       0.91      0.91      0.91       831\n",
            "\n"
          ],
          "name": "stdout"
        }
      ]
    },
    {
      "cell_type": "code",
      "metadata": {
        "id": "qY7E8YtFDK0Y",
        "colab_type": "code",
        "outputId": "956dca06-eaba-4e17-a594-eb6f2be65823",
        "colab": {
          "base_uri": "https://localhost:8080/",
          "height": 106
        }
      },
      "source": [
        "!zip -r model_B.zip 'model_B'"
      ],
      "execution_count": 47,
      "outputs": [
        {
          "output_type": "stream",
          "text": [
            "  adding: model_B/ (stored 0%)\n",
            "  adding: model_B/.data-00001-of-00002 (deflated 7%)\n",
            "  adding: model_B/checkpoint (deflated 34%)\n",
            "  adding: model_B/.index (deflated 74%)\n",
            "  adding: model_B/.data-00000-of-00002 (deflated 27%)\n"
          ],
          "name": "stdout"
        }
      ]
    }
  ]
}